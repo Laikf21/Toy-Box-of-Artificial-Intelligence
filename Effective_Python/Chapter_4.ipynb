{
 "cells": [
  {
   "attachments": {},
   "cell_type": "markdown",
   "metadata": {},
   "source": [
    "# 第四章，推导与生成"
   ]
  },
  {
   "attachments": {},
   "cell_type": "markdown",
   "metadata": {},
   "source": [
    "- 在字典、列表、集合等数据结构中，python提供了推导的写法，简洁地迭代这些结构，并根据迭代结果派生出另一套数据\n",
    "- 当这种理念运用到函数中时，称为生成器。凡是可是使用迭代器的任务都支持生成器函数。生成器可以提升性能并减少内存用量，让代码更容易读懂"
   ]
  },
  {
   "attachments": {},
   "cell_type": "markdown",
   "metadata": {},
   "source": [
    "### 第27条，用列表推导取代map与filter"
   ]
  },
  {
   "attachments": {},
   "cell_type": "markdown",
   "metadata": {},
   "source": [
    "### 第29条，用赋值表达式消除重复代码"
   ]
  },
  {
   "cell_type": "code",
   "execution_count": 4,
   "metadata": {},
   "outputs": [
    {
     "name": "stdout",
     "output_type": "stream",
     "text": [
      "{'screws': 4, 'wingnuts': 1}\n"
     ]
    }
   ],
   "source": [
    "stock = {\n",
    "    'nail':125,\n",
    "    'screws':35,\n",
    "    'wingnuts':8,\n",
    "    'washers':24\n",
    "}\n",
    "\n",
    "order = ['screws', 'wingnuts', 'clips']\n",
    "\n",
    "def get_batches(count, size):\n",
    "    return count//size\n",
    "\n",
    "# result = {}\n",
    "# for name in order:\n",
    "#     count = stock.get(name, 0)\n",
    "#     batches = get_batches(count, 8)\n",
    "#     if batches:\n",
    "#         result[name] = batches\n",
    "# print(result)\n",
    "\n",
    "found = {\n",
    "    name: batches for name in order if (batches:= get_batches(stock.get(name,0), 8))\n",
    "}\n",
    "print(found)\n",
    "\n",
    "# 赋值表达式会导致操作符左侧的变量泄露到包含这条推导语句的作用域里\n",
    "# 最好不要泄露循环变量，所以赋值表达式最好只用于推导逻辑的条件之中"
   ]
  },
  {
   "attachments": {},
   "cell_type": "markdown",
   "metadata": {},
   "source": [
    "### 第30条，不要让函数直接返回列表，而是逐个生成列表里的值\n",
    "包含yield表达式的函数是生成器函数\n"
   ]
  },
  {
   "cell_type": "code",
   "execution_count": 9,
   "metadata": {},
   "outputs": [
    {
     "name": "stdout",
     "output_type": "stream",
     "text": [
      "[0, 5, 11, 15, 21, 27]\n"
     ]
    }
   ],
   "source": [
    "def index_words_iter(text):\n",
    "    if text:\n",
    "        yield 0 \n",
    "    for index, letter in enumerate(text):\n",
    "        if letter == ' ':\n",
    "            yield index + 1\n",
    "\n",
    "address = 'Four score and seven years ago...'\n",
    "it = index_words_iter(address)\n",
    "# print(next(it))\n",
    "# print(next(it))\n",
    "# print(next(it))\n",
    "result = list(it)\n",
    "print(result)\n",
    "\n",
    "# 生成器函数的好处是一次值返回一个值，它可以将内存消耗量压得比较低"
   ]
  },
  {
   "attachments": {},
   "cell_type": "markdown",
   "metadata": {},
   "source": [
    "### 第31条，谨慎地迭代函数所收到的参数"
   ]
  },
  {
   "cell_type": "code",
   "execution_count": 16,
   "metadata": {},
   "outputs": [
    {
     "name": "stdout",
     "output_type": "stream",
     "text": [
      "[0, 5, 11, 15, 21, 27]\n",
      "[]\n"
     ]
    }
   ],
   "source": [
    "# 注意：迭代器只能产生一次结果\n",
    "def index_words_iter(text):\n",
    "    if text:\n",
    "        yield 0 \n",
    "    for index, letter in enumerate(text):\n",
    "        if letter == ' ':\n",
    "            yield index + 1\n",
    "\n",
    "address = 'Four score and seven years ago...'\n",
    "it = index_words_iter(address)\n",
    "print(list(it))\n",
    "print(list(it))    # 第二次不会输出结果\n",
    "\n",
    "# 如果要多次使用迭代器，要对迭代结果做一次备份，但备份的坏处是要占用大量的内存，而这违背了使用生成器函数的初衷"
   ]
  },
  {
   "cell_type": "code",
   "execution_count": 23,
   "metadata": {},
   "outputs": [
    {
     "name": "stdout",
     "output_type": "stream",
     "text": [
      "[0, 5, 11, 15, 21, 27]\n",
      "[0, 5, 11, 15, 21, 27]\n"
     ]
    }
   ],
   "source": [
    "# 解决方法一：在每次调用生成器时传入一个lambda表达式，这样每次使用时都会生成一个新的迭代器\n",
    "def index_words_iter(text):\n",
    "    if text:\n",
    "        yield 0 \n",
    "    for index, letter in enumerate(text):\n",
    "        if letter == ' ':\n",
    "            yield index + 1\n",
    "\n",
    "address = 'Four score and seven years ago...'\n",
    "it = lambda: index_words_iter(address)\n",
    "print(list(it()))\n",
    "print(list(it()))       # 第二次调用相当于生成了新的迭代器"
   ]
  },
  {
   "cell_type": "code",
   "execution_count": 25,
   "metadata": {},
   "outputs": [
    {
     "name": "stdout",
     "output_type": "stream",
     "text": [
      "[0, 5, 11, 15, 21, 27]\n",
      "[0, 5, 11, 15, 21, 27]\n"
     ]
    }
   ],
   "source": [
    "# 解决方法二：新建一个容器类，实现迭代器协议\n",
    "class Index_Word:\n",
    "    def __init__(self, text) -> None:\n",
    "        self.text = text\n",
    "    \n",
    "    def __iter__(self):\n",
    "        if self.text:\n",
    "            yield 0 \n",
    "        for index, letter in enumerate(self.text):\n",
    "            if letter == ' ':\n",
    "                yield index + 1\n",
    "\n",
    "address = 'Four score and seven years ago...'\n",
    "it = Index_Word(address)\n",
    "print(list(it))\n",
    "print(list(it))        # 相比于直接使用生成器函数，容器类中的迭代协议能够在每次调用时生成新的迭代器\n"
   ]
  },
  {
   "attachments": {},
   "cell_type": "markdown",
   "metadata": {},
   "source": [
    "### 第32条，考虑使用生成器表达式改写数据量较大的列表推导"
   ]
  },
  {
   "cell_type": "code",
   "execution_count": 26,
   "metadata": {},
   "outputs": [],
   "source": [
    "# 列表推导可以根据输入序列中的每个元素创建一个包含派生元素的新列表。但如果输入的数据量较大，这样做就会导致内存耗尽而崩溃。\n",
    "# 生成器表达式是推导机制与生成器机制的拓展，生成器表达式是写在一对圆括号内\n",
    "#"
   ]
  },
  {
   "attachments": {},
   "cell_type": "markdown",
   "metadata": {},
   "source": [
    "### 第33条，通过yield from把多个生成器连起来使用"
   ]
  },
  {
   "cell_type": "code",
   "execution_count": 2,
   "metadata": {},
   "outputs": [
    {
     "name": "stdout",
     "output_type": "stream",
     "text": [
      "Delta: 5.0\n",
      "Delta: 5.0\n",
      "Delta: 5.0\n",
      "Delta: 5.0\n",
      "Delta: 0.0\n",
      "Delta: 0.0\n",
      "Delta: 0.0\n",
      "Delta: 30.0\n",
      "Delta: 30.0\n"
     ]
    }
   ],
   "source": [
    "def move(period, speed):\n",
    "    for _ in range(period):\n",
    "        yield speed\n",
    "\n",
    "def pause(delay):\n",
    "    for _ in range(delay):\n",
    "        yield 0\n",
    "\n",
    "def animate():\n",
    "    yield from move(4, 5.0)\n",
    "    yield from pause(3)\n",
    "    yield from move(2, 30.0)\n",
    "\n",
    "def print_animation(delta):\n",
    "    print(f'Delta: {delta:.1f}')\n",
    "\n",
    "def run(func):\n",
    "    for delta in func():\n",
    "        print_animation(delta)\n",
    "\n",
    "run(animate)"
   ]
  },
  {
   "attachments": {},
   "cell_type": "markdown",
   "metadata": {},
   "source": [
    "### 第36条，考虑用itertools拼装迭代器与生成器"
   ]
  }
 ],
 "metadata": {
  "kernelspec": {
   "display_name": "osmnx",
   "language": "python",
   "name": "python3"
  },
  "language_info": {
   "codemirror_mode": {
    "name": "ipython",
    "version": 3
   },
   "file_extension": ".py",
   "mimetype": "text/x-python",
   "name": "python",
   "nbconvert_exporter": "python",
   "pygments_lexer": "ipython3",
   "version": "3.10.6"
  },
  "orig_nbformat": 4
 },
 "nbformat": 4,
 "nbformat_minor": 2
}
