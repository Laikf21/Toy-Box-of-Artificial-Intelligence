{
 "cells": [
  {
   "attachments": {},
   "cell_type": "markdown",
   "metadata": {},
   "source": [
    "# 第五章，类与接口"
   ]
  },
  {
   "attachments": {},
   "cell_type": "markdown",
   "metadata": {},
   "source": [
    "### 第37条，用组合起来的类来实现多层结构，不要用嵌套的内置类型"
   ]
  },
  {
   "cell_type": "code",
   "execution_count": 3,
   "metadata": {},
   "outputs": [],
   "source": [
    "# 字典与相关的内置类型用起来很方便，但同时也容易遭到滥用导致代码出问题\n",
    "# 如果遇到比较复杂的需求，不要再嵌套字典、元组、集合、列表等内置的类型，而是应当编写一批新类让这些类成一套体系\n",
    "from collections import namedtuple\n",
    "from collections import defaultdict\n",
    "\n",
    "Grade = namedtuple('Grade', ('score', 'weight'))\n",
    "\n",
    "class Subject:\n",
    "    def __init__(self):\n",
    "        self._grade = []\n",
    "    \n",
    "    def report_grade(self, score, weight):\n",
    "        self._grade.append(Grade(score, weight))\n",
    "    \n",
    "    def average_grade(self):\n",
    "        total, total_weight = 0, 0\n",
    "        for grade in self._grade:\n",
    "            total += grade.score * grade.weight\n",
    "            total_weight += grade.weight\n",
    "        return total/total_weight\n",
    "\n",
    "# 定义学生类，返回一个字典，其中键key的值时学生名字，value值时一个Subject类\n",
    "class Student:\n",
    "    def __init__(self) -> None:\n",
    "        self._subject = defaultdict(Subject)\n",
    "\n",
    "    def get_subject(self, name):\n",
    "        return self._subject[name]\n",
    "    \n",
    "    def average_grade(self):\n",
    "        total, count = 0, 0\n",
    "        for subject in self._subject.values():\n",
    "            total += subject.average_grade()\n",
    "            count += 1\n",
    "        return total/count\n",
    "\n",
    "# 定义一个成绩册类，把每位学生的名字环宇这位学生的Student对象关联起来\n",
    "# 如果成绩册里还没有记录过这位学生，那么在调用get_student方法时，Gradebook会构造一个默认的Student对象\n",
    "class Gradebook:\n",
    "    def __init__(self) -> None:\n",
    "        self._student = defaultdict(Student)\n",
    "    \n",
    "    def get_student(self, name):\n",
    "        return self._student[name]"
   ]
  },
  {
   "cell_type": "code",
   "execution_count": 4,
   "metadata": {},
   "outputs": [
    {
     "name": "stdout",
     "output_type": "stream",
     "text": [
      "80.25\n"
     ]
    }
   ],
   "source": [
    "book = Gradebook()\n",
    "albert = book.get_student('Albert Einstein')\n",
    "math = albert.get_subject('Math')\n",
    "gym = albert.get_subject('gym')\n",
    "math.report_grade(75, 0.05)\n",
    "math.report_grade(65, 0.15)\n",
    "math.report_grade(70, 0.8)\n",
    "gym.report_grade(100,0.4)\n",
    "gym.report_grade(85, 0.6)\n",
    "print(albert.average_grade())"
   ]
  },
  {
   "attachments": {},
   "cell_type": "markdown",
   "metadata": {},
   "source": [
    "### 第38条，让简单的接口接受函数，而不是类的实例"
   ]
  },
  {
   "attachments": {},
   "cell_type": "markdown",
   "metadata": {},
   "source": [
    "头等对象(first-class object)指的是在一种编程语言中能够被当做参数传递、赋值给变量、存储在数据结构中的对象。\n",
    "\n",
    "Python中，许多挂钩都是无状态的函数，带有明确的参数与返回值。"
   ]
  },
  {
   "cell_type": "code",
   "execution_count": 6,
   "metadata": {},
   "outputs": [
    {
     "name": "stdout",
     "output_type": "stream",
     "text": [
      "Before: {'green': 12, 'blue': 3}\n",
      "Key added\n",
      "Key added\n",
      "After: {'green': 12, 'blue': 20, 'red': 5, 'orange': 9}\n"
     ]
    }
   ],
   "source": [
    "def log_missing():\n",
    "    print('Key added')\n",
    "    return 0\n",
    "\n",
    "from collections import defaultdict\n",
    "\n",
    "current = {'green':12, 'blue':3}\n",
    "increment = [\n",
    "    ('red', 5),\n",
    "    ('blue', 17),\n",
    "    ('orange', 9)\n",
    "]\n",
    "result = defaultdict(log_missing, current)\n",
    "\n",
    "print('Before:', dict(result))\n",
    "\n",
    "for key, amount in increment:\n",
    "    result[key] += amount\n",
    "\n",
    "print('After:', dict(result))"
   ]
  },
  {
   "cell_type": "code",
   "execution_count": null,
   "metadata": {},
   "outputs": [],
   "source": [
    "# 有状态的闭包（stateful colsure）\n",
    "def increment_with_report(current, increments):\n",
    "    add_count = 0\n",
    "\n",
    "    def missing():\n",
    "        nonlocal add_count\n",
    "        add_count += 1\n",
    "        return 0\n",
    "    \n",
    "    result = defaultdict(missing, current)\n",
    "    for key, amount in increments:\n",
    "        result[key] += amount\n",
    "\n",
    "    return result, add_count"
   ]
  },
  {
   "cell_type": "code",
   "execution_count": 9,
   "metadata": {},
   "outputs": [],
   "source": [
    "# 使用__call__特殊方法，使类的对象能够像函数那样调用\n",
    "class BetterCountMissing:\n",
    "    def __init__(self):\n",
    "        self.added = 0\n",
    "    \n",
    "    def __call__(self):\n",
    "        self.added += 1\n",
    "        return 0\n",
    "    \n",
    "counter = BetterCountMissing()\n",
    "assert counter() == 0\n",
    "assert callable(counter)\n",
    "\n",
    "current = {'green':12, 'blue':3}\n",
    "increment = [\n",
    "    ('red', 5),\n",
    "    ('blue', 17),\n",
    "    ('orange', 9)\n",
    "]\n",
    "\n",
    "counter = BetterCountMissing()\n",
    "result = defaultdict(counter, current)\n",
    "for key, amount in increment:\n",
    "    result[key] += amount\n",
    "assert counter.added == 2"
   ]
  },
  {
   "attachments": {},
   "cell_type": "markdown",
   "metadata": {},
   "source": [
    "### 第39条，通过@classmethod多态来构造统一体系中的各类对象\n",
    "多态机制可以使同一体系中的多个类按照各自独有的方式来实现同一个方法。这意味着这些类都可以满足同一套接口，或者都可以当做某个抽象类来使用，同时，它们又能在这个前提下，实现各自的功能。"
   ]
  },
  {
   "cell_type": "code",
   "execution_count": 13,
   "metadata": {},
   "outputs": [],
   "source": [
    "# 以下为一个案例，实现了一套MapRedeuce流程，并且以一个通用的类来表示输入数据。\n",
    "\n",
    "class InputData:\n",
    "    def read(self):\n",
    "        raise NotImplementedError       # 在面向对象编程中，如果想在父类中预留一个方法，使该方法在子类中实现，如果子类中没有对该方法进行重写就被调用，则会报错：NotImplementError！\n",
    "\n",
    "class PathInputData(InputData):\n",
    "    def __init__(self, path) -> None:\n",
    "        super().__init__()\n",
    "        self.path = path\n",
    "\n",
    "    def read(self):\n",
    "        with open(self.path) as f:\n",
    "            return f.read()\n",
    "        \n",
    "class Worker:\n",
    "    def __init__(self, input_data):\n",
    "        self.input_data = input_data\n",
    "        self.result = None\n",
    "\n",
    "    def map(self):\n",
    "        raise NotImplementedError\n",
    "    \n",
    "    def reduce(self, other):\n",
    "        raise NotImplementedError\n",
    "    \n",
    "class LineCountWorker(Worker):\n",
    "    def map(self):\n",
    "        data = self.input_data.read()\n",
    "        self.result = data.count('\\n')\n",
    "    def reduce(self, other):\n",
    "        self.result += other.result\n",
    "\n",
    "import os\n",
    "\n",
    "def generate_inputs(data_dir):\n",
    "    for name in os.listdir(data_dir):\n",
    "        yield PathInputData(os.path.join(data_dir, name))\n",
    "\n",
    "def create_workers(input_list):\n",
    "    workers = []\n",
    "    for input_data in input_list:\n",
    "        workers.append(LineCountWorker(input_data))\n",
    "    return workers\n",
    "\n",
    "from threading import Thread\n",
    "\n",
    "def execute(workers):\n",
    "    threads = [Thread(target=w.map) for w in workers]\n",
    "    for thread in threads: thread.start()\n",
    "    for thread in threads: thread.join()\n",
    "\n",
    "    first, *rest = workers\n",
    "    for workder in rest:\n",
    "        first.reduce(workder)\n",
    "    return first.result\n",
    "\n",
    "def mapreduce(data_dir):\n",
    "    inputs = generate_inputs(data_dir)\n",
    "    workers = create_workers(inputs)\n",
    "    return execute(workers)"
   ]
  },
  {
   "cell_type": "code",
   "execution_count": 25,
   "metadata": {},
   "outputs": [
    {
     "name": "stdout",
     "output_type": "stream",
     "text": [
      "主线程结束\n"
     ]
    },
    {
     "name": "stdout",
     "output_type": "stream",
     "text": [
      "任务结束\n"
     ]
    }
   ],
   "source": [
    "# 多线程入门\n",
    "import time\n",
    "import requests\n",
    "import threading            # 多线程\n",
    "import multiprocessing      # 多进程\n",
    "\n",
    "# t = threading.Thread(target='函数名', args=('函数参数'))\n",
    "# t.start()\n",
    "\n",
    "# t = multiprocessing.Process(target='函数名', args=('函数参数'))\n",
    "# t.start()\n",
    "\n",
    "def task(t):\n",
    "    time.sleep(1)\n",
    "    print(\"任务结束\")\n",
    "\n",
    "t = threading.Thread(target=task, args=(11,))\n",
    "t.daemon = False        # deamon的作用是守护主线程，默认主线程结束，子线程会自行运行至结束。如果设置为True，则主线程一结束，子线程也立即结束。\n",
    "t.start()\n",
    "print('主线程结束')"
   ]
  },
  {
   "cell_type": "code",
   "execution_count": 2,
   "metadata": {},
   "outputs": [],
   "source": [
    "# 自定义线程类，通过重写run方法，设置每个线程的任务内容。\n",
    "import threading\n",
    "\n",
    "class DouYinThread(threading.Thread):\n",
    "    def run(self):\n",
    "        file_name, video_url = self._args\n",
    "        res = requests.get(video_url)\n",
    "        with open(file_name, mode='wb') as f:\n",
    "            f.write(res.content)\n",
    "\n",
    "t = DouYinThread(args=('file_name', 'video_url'))\n",
    "t.start()"
   ]
  },
  {
   "cell_type": "code",
   "execution_count": null,
   "metadata": {},
   "outputs": [],
   "source": [
    "import threading\n",
    "\n",
    "lock_object = threading.RLock()\n",
    "\n",
    "number = 0\n",
    "loop = 1000000\n",
    "\n",
    "def _add(count):\n",
    "    lock_object.acquire()\n",
    "    global number\n",
    "    for i in range(count):\n",
    "        number += 1\n",
    "    lock_object.release()\n",
    "\n",
    "def _add(count):\n",
    "    lock_object.acquire()\n",
    "    global number\n",
    "    for i in range(count):\n",
    "        number -= 1\n",
    "    lock_object.release()"
   ]
  },
  {
   "cell_type": "code",
   "execution_count": 8,
   "metadata": {},
   "outputs": [
    {
     "name": "stdout",
     "output_type": "stream",
     "text": [
      "<__main__.Singleton object at 0x000001E7E32E0D60> <__main__.Singleton object at 0x000001E7E32E0D60>\n"
     ]
    }
   ],
   "source": [
    "# 单例模式，每次实例化对象，用的是同一个内存地址\n",
    "import threading\n",
    "class Singleton:\n",
    "    instance = None\n",
    "    lock = threading.RLock()\n",
    "\n",
    "    def __init__(self, name):\n",
    "        self.name = name\n",
    "\n",
    "    def __new__(cls, *args, **kwargs):\n",
    "        if cls.instance:\n",
    "            return cls.instance        \n",
    "\n",
    "        with cls.lock:\n",
    "            if cls.instance:\n",
    "                return cls.instance\n",
    "            cls.instance = object.__new__(cls)\n",
    "            return cls.instance\n",
    "    \n",
    "obj1 = Singleton('alex')\n",
    "obj2 = Singleton('Bob')\n",
    "\n",
    "print(obj1, obj2)   # 检查内存地址\n",
    "\n",
    "# 但是上述单例模式在多线程中会出现问题"
   ]
  }
 ],
 "metadata": {
  "kernelspec": {
   "display_name": "osmnx",
   "language": "python",
   "name": "python3"
  },
  "language_info": {
   "codemirror_mode": {
    "name": "ipython",
    "version": 3
   },
   "file_extension": ".py",
   "mimetype": "text/x-python",
   "name": "python",
   "nbconvert_exporter": "python",
   "pygments_lexer": "ipython3",
   "version": "3.10.6"
  },
  "orig_nbformat": 4
 },
 "nbformat": 4,
 "nbformat_minor": 2
}
