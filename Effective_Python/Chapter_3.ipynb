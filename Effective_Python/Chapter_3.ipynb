{
 "cells": [
  {
   "attachments": {},
   "cell_type": "markdown",
   "metadata": {},
   "source": [
    "# 第三章，函数"
   ]
  },
  {
   "attachments": {},
   "cell_type": "markdown",
   "metadata": {},
   "source": [
    "### 第19条，不要把函数返回的多个数值拆分到三个以上的变量中"
   ]
  },
  {
   "attachments": {},
   "cell_type": "markdown",
   "metadata": {},
   "source": [
    "### 第20条，遇到意外情况要返回异常，不要返回None"
   ]
  },
  {
   "attachments": {},
   "cell_type": "markdown",
   "metadata": {},
   "source": [
    "### 第21条，了解如何在闭包里面使用外围作用域中的变量"
   ]
  },
  {
   "cell_type": "code",
   "execution_count": 6,
   "metadata": {},
   "outputs": [
    {
     "name": "stdout",
     "output_type": "stream",
     "text": [
      "[2, 3, 5, 7, 1, 4, 6, 8]\n"
     ]
    }
   ],
   "source": [
    "# closure 闭包\n",
    "def sort_priority(values, group):\n",
    "    def helper(x):\n",
    "        if x in group:\n",
    "            return (0, x)\n",
    "        return(1, x)\n",
    "    values.sort(key=helper)\n",
    "\n",
    "numbers = [8, 3, 1, 2, 5, 4, 7, 6]\n",
    "group = {2, 3, 5, 7}\n",
    "sort_priority(numbers, group)\n",
    "print(numbers)"
   ]
  },
  {
   "cell_type": "code",
   "execution_count": 7,
   "metadata": {},
   "outputs": [
    {
     "name": "stdout",
     "output_type": "stream",
     "text": [
      "True\n"
     ]
    }
   ],
   "source": [
    "# 当需要将闭包里的数据赋给闭包外面的变量时，要使用nonlocal\n",
    "# nonlocal使用有限制，不能侵入模块级别的作用域\n",
    "def sort_priority2(values, group):\n",
    "    found = False\n",
    "    def helper(x):\n",
    "        nonlocal found  # 添加该变量\n",
    "        if x in group:\n",
    "            found = True\n",
    "            return(0, x)\n",
    "        return(1, x)\n",
    "    values.sort(key=helper)\n",
    "    return found\n",
    "    \n",
    "numbers = [8, 3, 1, 2, 5, 4, 7, 6]\n",
    "group = {2, 3, 5, 7}\n",
    "found = sort_priority2(numbers, group)\n",
    "print(found)\n",
    "\n",
    "# nonlocal尽量少用"
   ]
  },
  {
   "attachments": {},
   "cell_type": "markdown",
   "metadata": {},
   "source": [
    "### 第22条，用数量可变的位置参数给函数设计清晰的参数列表"
   ]
  },
  {
   "cell_type": "code",
   "execution_count": 12,
   "metadata": {},
   "outputs": [
    {
     "name": "stdout",
     "output_type": "stream",
     "text": [
      "My numbers are: 1, 2\n",
      "Hi there\n"
     ]
    }
   ],
   "source": [
    "# 数量可变的位置参数，简称varargs，叫做star args或*args\n",
    "# 以下为记录调试信息的函数\n",
    "\n",
    "# 不使用可变参数版本\n",
    "def log(message, values):\n",
    "    if not values:\n",
    "        print(message)\n",
    "    else:\n",
    "        value_str = ', '.join(str(x) for x in values)\n",
    "        print(f'{message}: {value_str}')\n",
    "\n",
    "log('My numbers are', [1,2])\n",
    "log('Hi there', [])             # 这里必须加一个空列表作为values的参数"
   ]
  },
  {
   "cell_type": "code",
   "execution_count": 15,
   "metadata": {},
   "outputs": [
    {
     "name": "stdout",
     "output_type": "stream",
     "text": [
      "My numbers are: 1, 2\n",
      "Hi there\n",
      "My numbers are: [1, 2]\n",
      "My numbers are: 1, 2\n"
     ]
    }
   ],
   "source": [
    "# 使用可变参数版本\n",
    "def log(message, *values):\n",
    "    if not values:\n",
    "        print(message)\n",
    "    else:\n",
    "        value_str = ', '.join(str(x) for x in values)\n",
    "        print(f'{message}: {value_str}')\n",
    "\n",
    "log('My numbers are', 1, 2)\n",
    "log('Hi there')                     # 这里不用加参数\n",
    "numbers = [1,2]\n",
    "log('My numbers are', numbers)      # 注意传参时，加*与不加*的区别\n",
    "log('My numbers are', *numbers)"
   ]
  },
  {
   "cell_type": "code",
   "execution_count": 19,
   "metadata": {},
   "outputs": [],
   "source": [
    "d = {'a':1, 'b':2}\n",
    "# **d，作为关键字参数传给函数，等价于'a'=1, 'b'=2"
   ]
  },
  {
   "attachments": {},
   "cell_type": "markdown",
   "metadata": {},
   "source": [
    "### 第24条，用None和docstrinng来描述默认值会变的参数"
   ]
  },
  {
   "cell_type": "code",
   "execution_count": 1,
   "metadata": {},
   "outputs": [],
   "source": [
    "# 函数的参数是在系统加载该函数模块时计算一遍，不会在每次执行时重新计算\n",
    "from datetime import datetime\n",
    "def log(message, when = None):\n",
    "    '''\n",
    "    Log a message with a timestamp\n",
    "\n",
    "    Args:\n",
    "        message: message to print。\n",
    "        when： datetime of when the message occurred\n",
    "    '''\n",
    "    if when is None:\n",
    "        when = datetime.now()\n",
    "    print(f'{when}: {message}')"
   ]
  },
  {
   "attachments": {},
   "cell_type": "markdown",
   "metadata": {},
   "source": [
    "### 第25条，用只能以关键字，或只能以按位置传入参数的方法，为函数设计清晰的参数列表"
   ]
  },
  {
   "cell_type": "code",
   "execution_count": 6,
   "metadata": {},
   "outputs": [
    {
     "name": "stdout",
     "output_type": "stream",
     "text": [
      "0 1 2 3\n"
     ]
    }
   ],
   "source": [
    "# 可以用*分割参数，*左边是位置参数，右边是只能用关键字制定参数\n",
    "# 3.8版本后新增功能，可以用/分割参数，/左边必须使用按位置制定参数\n",
    "# /和*之间的参数，既可以按位置提供，也可以按关键字提供\n",
    "\n",
    "def print_func(arg1, arg2, /, *, kwag1, kwag2):\n",
    "    print(arg1, arg2, kwag1, kwag2)\n",
    "\n",
    "# print_func(0, 1, 2, 3)                        # 会报错\n",
    "# print_func(arg1=0, arg2=1, kwag1=2, kwag2=3)  # 会报错\n",
    "print_func(0, 1, kwag1=2, kwag2=3)              # 成功"
   ]
  },
  {
   "attachments": {},
   "cell_type": "markdown",
   "metadata": {},
   "source": [
    "### 第26条，用functools.wraps定义函数修饰器"
   ]
  },
  {
   "cell_type": "code",
   "execution_count": 7,
   "metadata": {},
   "outputs": [
    {
     "name": "stdout",
     "output_type": "stream",
     "text": [
      "fibonacci((0,), {}) -> 0\n",
      "fibonacci((1,), {}) -> 1\n",
      "fibonacci((2,), {}) -> 1\n",
      "fibonacci((1,), {}) -> 1\n",
      "fibonacci((0,), {}) -> 0\n",
      "fibonacci((1,), {}) -> 1\n",
      "fibonacci((2,), {}) -> 1\n",
      "fibonacci((3,), {}) -> 2\n",
      "fibonacci((4,), {}) -> 3\n",
      "<function trace.<locals>.wrapper at 0x0000025C5D452680>\n",
      "Help on function wrapper in module __main__:\n",
      "\n",
      "wrapper(*args, **kwags)\n",
      "\n"
     ]
    }
   ],
   "source": [
    "def trace(func):\n",
    "    def wrapper(*args, **kwags):\n",
    "        result = func(*args, **kwags)       # 获得原函数结果\n",
    "        print(f'{func.__name__}({args!r}, {kwags!r}) -> {result!r}')        # 修饰原函数\n",
    "        return result\n",
    "    return wrapper\n",
    "\n",
    "@trace      # 等价于fibonacci = trace(fibonacci)\n",
    "def fibonacci(n):\n",
    "    '''斐波那契数列的递归实现'''\n",
    "    if n in (0, 1):\n",
    "        return n\n",
    "    return fibonacci(n-2) + fibonacci(n-1)\n",
    "\n",
    "fibonacci(4)\n",
    "print(fibonacci) \n",
    "help(fibonacci)"
   ]
  },
  {
   "attachments": {},
   "cell_type": "markdown",
   "metadata": {},
   "source": [
    "- 可以看到，经过装饰的函数，已经变为trace内的wrapper函数，而不是原来的fibonacci函数了\n",
    "- 但是这样有问题，会影响调试器debugger的使用，也无法访问原函数的帮助文档，也无法使用pickle对象序列化器保存函数"
   ]
  },
  {
   "cell_type": "code",
   "execution_count": 9,
   "metadata": {},
   "outputs": [
    {
     "name": "stdout",
     "output_type": "stream",
     "text": [
      "fibonacci((0,), {}) -> 0\n",
      "fibonacci((1,), {}) -> 1\n",
      "fibonacci((2,), {}) -> 1\n",
      "fibonacci((1,), {}) -> 1\n",
      "fibonacci((0,), {}) -> 0\n",
      "fibonacci((1,), {}) -> 1\n",
      "fibonacci((2,), {}) -> 1\n",
      "fibonacci((3,), {}) -> 2\n",
      "fibonacci((4,), {}) -> 3\n",
      "<function fibonacci at 0x0000025C5D4528C0>\n",
      "Help on function fibonacci in module __main__:\n",
      "\n",
      "fibonacci(n)\n",
      "    斐波那契数列递归实现\n",
      "\n"
     ]
    }
   ],
   "source": [
    "# functools中的wraps模块本身也是个修饰器，可以帮助将重要的元数据从原函数复制到外部函数中\n",
    "from functools import wraps\n",
    "\n",
    "def trace(func):\n",
    "    @wraps(func)\n",
    "    def wrapper(*args, **kwags):\n",
    "        result = func(*args, **kwags)\n",
    "        print(f'{func.__name__}({args!r}, {kwags!r}) -> {result!r}')\n",
    "        return result\n",
    "    return wrapper\n",
    "\n",
    "@trace\n",
    "def fibonacci(n):\n",
    "    '''斐波那契数列的递归实现'''\n",
    "    if n in (0, 1):\n",
    "        return n\n",
    "    return fibonacci(n-2) + fibonacci(n-1)\n",
    "\n",
    "fibonacci(4)\n",
    "print(fibonacci) \n",
    "help(fibonacci)"
   ]
  }
 ],
 "metadata": {
  "kernelspec": {
   "display_name": "osmnx",
   "language": "python",
   "name": "python3"
  },
  "language_info": {
   "codemirror_mode": {
    "name": "ipython",
    "version": 3
   },
   "file_extension": ".py",
   "mimetype": "text/x-python",
   "name": "python",
   "nbconvert_exporter": "python",
   "pygments_lexer": "ipython3",
   "version": "3.10.6"
  },
  "orig_nbformat": 4
 },
 "nbformat": 4,
 "nbformat_minor": 2
}
