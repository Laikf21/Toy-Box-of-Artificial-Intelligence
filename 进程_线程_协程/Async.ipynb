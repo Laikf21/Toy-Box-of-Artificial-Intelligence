{
 "cells": [
  {
   "cell_type": "markdown",
   "metadata": {},
   "source": [
    "# 异步编程 笔记"
   ]
  },
  {
   "cell_type": "markdown",
   "metadata": {},
   "source": [
    "## 1 事件循环"
   ]
  },
  {
   "cell_type": "code",
   "execution_count": null,
   "metadata": {},
   "outputs": [],
   "source": [
    "#  事件循环的原理伪代码\n",
    "任务列表 = [ 任务1, 任务2, 任务3,...]\n",
    "\n",
    "\"\"\"\n",
    "while True:\n",
    "    可执行任务李列表、已完成任务列表 = 去任务列表中检查素有任务，将'可执行'和已完成任务返回\n",
    "    \n",
    "    for 就绪任务 in 可执行任务列表:\n",
    "        执行已就绪的任务\n",
    "        \n",
    "    for 已完成任务 in 已完成的任务列表:\n",
    "        在任务列表中删除 已完成的任务\n",
    "        \n",
    "    如果 任务列表 中的任务均已完成，则终止\n",
    "\"\"\"\n",
    "\n",
    "# 执行事件循环的伪代码\n",
    "import asyncio\n",
    "\n",
    "# 去生成或获取一个时间循环\n",
    "loop = asyncio.get_event_loop()\n",
    "\n",
    "# 将任务放到'任务列表'\n",
    "loop.run_until_complete(任务)\n",
    "    "
   ]
  },
  {
   "cell_type": "markdown",
   "metadata": {},
   "source": [
    "## 2 快速上手\n",
    "\n",
    "协程函数，定义函数时 async def 函数名\n",
    "\n",
    "协程对象，执行协程函数()得到的协程对象"
   ]
  },
  {
   "cell_type": "code",
   "execution_count": null,
   "metadata": {},
   "outputs": [],
   "source": [
    "import asyncio\n",
    "async def func():\n",
    "    pass\n",
    "\n",
    "result = func()\n",
    "\n",
    "\"\"\"\n",
    "注意：执行协程函数得到的协程对象；执行协程函数后，原函数是不会执行的，只会返回一个协程对象。\n",
    "可以通过以下两种方式将协程对象加入时间循环中：\n",
    "\"\"\"\n",
    "\n",
    "# 旧版本python支持的方式：\n",
    "loop = asyncio.get_event_loop()\n",
    "loop.run_until_complete(result)\n",
    "\n",
    "# 新版python支持的方式：\n",
    "asyncio.run(result)"
   ]
  },
  {
   "cell_type": "markdown",
   "metadata": {},
   "source": [
    "## 3 await 关键字\n",
    "\n",
    "await + 可等待的对象（协程对象、Future、Task对象）"
   ]
  },
  {
   "cell_type": "code",
   "execution_count": null,
   "metadata": {},
   "outputs": [],
   "source": [
    "# 示例1\n",
    "import asyncio\n",
    "\n",
    "async def func():\n",
    "    print('begin')\n",
    "    reponse = await asyncio.sleep(2)\n",
    "    print('end', reponse)\n",
    "\n",
    "\n",
    "asyncio.run(func())\n",
    "\n",
    "# 示例2\n",
    "import asyncio\n",
    "\n",
    "async def func1():\n",
    "    print('run_coroutine_object')\n",
    "    reponse = await func2()\n",
    "    print('finished_with', reponse)\n",
    "    \n",
    "async def func2():\n",
    "    print('begin')\n",
    "    reponse = await asyncio.sleep(2)\n",
    "    print('end', reponse)\n",
    "    return 'a_return'\n",
    "    \n",
    "asyncio.run(func1())\n",
    "\n",
    "# 示例3\n",
    "import asyncio\n",
    "\n",
    "async def func1():\n",
    "    print('run_coroutine_object')\n",
    "    reponse1 = await func2()\n",
    "    print('finished_with', reponse1)\n",
    "    reponse2 = await func2()\n",
    "    print('finished_with', reponse2)\n",
    "    \n",
    "async def func2():\n",
    "    print('begin')\n",
    "    reponse = await asyncio.sleep(2)\n",
    "    print('end', reponse)\n",
    "    return 'a_return'\n",
    "    \n",
    "asyncio.run(func1())"
   ]
  },
  {
   "cell_type": "markdown",
   "metadata": {},
   "source": [
    "## 4 Task 对象\n",
    "\n",
    "在事件循环中添加多个任务\n",
    "\n",
    "Tasks用于并发调度协程，通过 asyncio.create_task(协程对象)的方式创建Task对象，这样可以让协程加入事件循环中等待被调度执行。在python3.7版本前，仅支持低层级的 loop.create_task() 或 asyncio.ensure_future() 函数来实例化Task对象。"
   ]
  }
 ],
 "metadata": {
  "kernelspec": {
   "display_name": "OR_RideSharing",
   "language": "python",
   "name": "python3"
  },
  "language_info": {
   "codemirror_mode": {
    "name": "ipython",
    "version": 3
   },
   "file_extension": ".py",
   "mimetype": "text/x-python",
   "name": "python",
   "nbconvert_exporter": "python",
   "pygments_lexer": "ipython3",
   "version": "3.11.4"
  }
 },
 "nbformat": 4,
 "nbformat_minor": 2
}
