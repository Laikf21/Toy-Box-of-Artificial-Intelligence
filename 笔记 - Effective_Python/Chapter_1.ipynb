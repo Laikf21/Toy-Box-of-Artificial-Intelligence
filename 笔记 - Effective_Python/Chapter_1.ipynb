{
 "cells": [
  {
   "attachments": {},
   "cell_type": "markdown",
   "metadata": {},
   "source": [
    "# 第一章、培养Pythonic思维"
   ]
  },
  {
   "attachments": {},
   "cell_type": "markdown",
   "metadata": {},
   "source": [
    "### 第4条，使用插值的f-string代替C风格的格式字符串与str.format字符串"
   ]
  },
  {
   "cell_type": "code",
   "execution_count": 1,
   "metadata": {},
   "outputs": [
    {
     "name": "stdout",
     "output_type": "stream",
     "text": [
      "    my_var = 1.23\n"
     ]
    }
   ],
   "source": [
    "key = 'my_var'\n",
    "value = 1.234\n",
    "formatted = '%10s = %.2f' % (key, value)\n",
    "print(formatted)"
   ]
  },
  {
   "cell_type": "code",
   "execution_count": 2,
   "metadata": {},
   "outputs": [
    {
     "name": "stdout",
     "output_type": "stream",
     "text": [
      "#1: Avocados   = 1\n",
      "#2: Bananas    = 2\n",
      "#3: Cherries   = 15\n"
     ]
    }
   ],
   "source": [
    "# C风格的%格式字符串\n",
    "pantry = [\n",
    "    ('avocados', 1.25),\n",
    "    ('bananas', 2.15),\n",
    "    ('cherries', 15)\n",
    "]\n",
    "\n",
    "for i, (item, count) in enumerate(pantry):\n",
    "    print('#%d: %-10s = %d' % (i+1\n",
    "                               , item.title()\n",
    "                               , round(count)))"
   ]
  },
  {
   "cell_type": "code",
   "execution_count": 3,
   "metadata": {},
   "outputs": [],
   "source": [
    "# %格式字符串，改进写法\n",
    "key = 'my_var'\n",
    "value = 1.234\n",
    "\n",
    "old_way = '%-10s = %.2f' % (key, value)\n",
    "new_way = '%(key)-10s = %(value).2f' % {'key':key, 'value':value}\n",
    "assert old_way == new_way"
   ]
  },
  {
   "cell_type": "code",
   "execution_count": 4,
   "metadata": {},
   "outputs": [
    {
     "name": "stdout",
     "output_type": "stream",
     "text": [
      "Today's soup is lentil, buy one get two kumamoto oysters, and our special entree is schnitzel.\n"
     ]
    }
   ],
   "source": [
    "# 但是这总改进的写法会特别冗长\n",
    "menu = {\n",
    "    'soup':'lentil',\n",
    "    'oyster':'kumamoto',\n",
    "    'special':'schnitzel'\n",
    "}\n",
    "\n",
    "template = ('Today\\'s soup is %(soup)s, '\n",
    "            'buy one get two %(oyster)s oysters, '\n",
    "            'and our special entree is %(special)s.')\n",
    "\n",
    "formatted = template % menu\n",
    "print(formatted)"
   ]
  },
  {
   "cell_type": "code",
   "execution_count": 5,
   "metadata": {},
   "outputs": [
    {
     "name": "stdout",
     "output_type": "stream",
     "text": [
      "            1,234.57\n",
      "*      my string       *\n"
     ]
    }
   ],
   "source": [
    "# 内置的format函数，<为居左，^为居中，>为居右，后面的数字为字符串长度，逗号代表千位分隔符\n",
    "a = 1234.5678\n",
    "formatted = format(a, '>20,.2f')\n",
    "print(formatted)\n",
    "\n",
    "# 字符串的format方法\n",
    "b = 'my string'\n",
    "formatted = format(b, '^20s')\n",
    "print('*', formatted, '*')"
   ]
  },
  {
   "cell_type": "code",
   "execution_count": 6,
   "metadata": {},
   "outputs": [
    {
     "name": "stdout",
     "output_type": "stream",
     "text": [
      "************-1_000************\n",
      "192 168 0 1\n"
     ]
    }
   ],
   "source": [
    "print('{:*^30_}'.format(-1000))\n",
    "\n",
    "octets = [192, 168, 0, 1]\n",
    "print(*octets)"
   ]
  },
  {
   "cell_type": "code",
   "execution_count": 7,
   "metadata": {},
   "outputs": [],
   "source": [
    "# help('FORMATTING')"
   ]
  },
  {
   "cell_type": "code",
   "execution_count": 8,
   "metadata": {},
   "outputs": [
    {
     "ename": "SyntaxError",
     "evalue": "f-string: empty expression not allowed (4112456457.py, line 3)",
     "output_type": "error",
     "traceback": [
      "\u001b[1;36m  Cell \u001b[1;32mIn [8], line 3\u001b[1;36m\u001b[0m\n\u001b[1;33m    print(f'{} replace {{}}'.format)\u001b[0m\n\u001b[1;37m                            ^\u001b[0m\n\u001b[1;31mSyntaxError\u001b[0m\u001b[1;31m:\u001b[0m f-string: empty expression not allowed\n"
     ]
    }
   ],
   "source": [
    "# f-string里要输出‘{’和‘}’，需要二次输入，例如{{和}}\n",
    "# 同理，在c风格字符串中，要输出'%'需要二次输入，$$\n",
    "print(f'{} replace {{}}'.format)"
   ]
  },
  {
   "cell_type": "code",
   "execution_count": null,
   "metadata": {},
   "outputs": [],
   "source": [
    "# f-string称作插值式字符串，是str.format的进阶版、\n",
    "key = 'my_val'\n",
    "value = 1.234\n",
    "formatted = f'{key} = {value}'\n",
    "print(formatted)"
   ]
  },
  {
   "cell_type": "code",
   "execution_count": null,
   "metadata": {},
   "outputs": [],
   "source": [
    "# f-string可以极大缩短代码量\n",
    "# f-string可以拆成多行，类似c语言相邻字符串自动拼接\n",
    "menu = {\n",
    "    'soup':'lentil',\n",
    "    'oyster':'kumamoto',\n",
    "    'special':'schnitzel'\n",
    "}\n",
    "\n",
    "for i, item in enumerate(menu):\n",
    "    print(f'#{i+1}: '\n",
    "          f'{item.title()} is '\n",
    "          f'{menu[item]}')"
   ]
  },
  {
   "attachments": {},
   "cell_type": "markdown",
   "metadata": {},
   "source": [
    "### 第5条，当表达式较为复杂式，考虑用函数辅助简化。编程遵循DRY（Don't repeat yourself）原则"
   ]
  },
  {
   "attachments": {},
   "cell_type": "markdown",
   "metadata": {},
   "source": [
    "### 第6条，将数据结构直接拆分到多个变量中，不要通过下标访问"
   ]
  },
  {
   "cell_type": "code",
   "execution_count": null,
   "metadata": {},
   "outputs": [],
   "source": [
    "item = ('a', 'b')\n",
    "item1, item2 = item\n",
    "print(item1, 'and', item2 )\n",
    "# 以上方式称为拆分，比使用item[0]和item[1]寻找元素更清晰。\n",
    "# 拆分就是直接通过赋值操作获取数据结果内的元素"
   ]
  },
  {
   "cell_type": "code",
   "execution_count": null,
   "metadata": {},
   "outputs": [],
   "source": [
    "# 拆分可以直接原地交换两个变量，而不用创建临时变量\n",
    "# 用拆分的办法写冒泡排序\n",
    "def bubble_sort(a):\n",
    "    for _ in range(len(a)):\n",
    "        for i in range(1, len(a)):\n",
    "            if a[i] < a[i-1]:\n",
    "                a[i-1], a[i] = a[i], a[i-1]  # 用拆分来交换元素\n",
    "\n",
    "names = ['pretzel', 'carrots', 'arugula', 'bacon']\n",
    "bubble_sort(names)\n",
    "print(names)\n",
    "\n",
    "# 拆分机制可以和enumerate方法结合，使代码更简洁直观"
   ]
  },
  {
   "attachments": {},
   "cell_type": "markdown",
   "metadata": {},
   "source": [
    "### 第7条，尽量使用enumerate取代range"
   ]
  },
  {
   "cell_type": "code",
   "execution_count": null,
   "metadata": {},
   "outputs": [],
   "source": [
    "a = 0\n",
    "a |= 1 << 1\n",
    "a |= 1 << 0\n",
    "a |= 1 << 1\n",
    "a"
   ]
  },
  {
   "cell_type": "code",
   "execution_count": null,
   "metadata": {},
   "outputs": [],
   "source": [
    "# enumerate将迭代器封装成惰性生成器\n",
    "list_temp = ['a', 'b', 'c']\n",
    "item = enumerate(list_temp)\n",
    "print(next(item))\n",
    "print(next(item))\n",
    "print(next(item))\n",
    "\n",
    "# enumerate可以拆分到for语句中\n",
    "for i, item in enumerate(list_temp):\n",
    "    print(f'#{i+1} is {item}')\n",
    "\n",
    "# enumerate第二个参数的作用是制定起始索引号\n",
    "for i, item in enumerate(list_temp, 11):\n",
    "    print(f'#{i} is {item}')"
   ]
  },
  {
   "attachments": {},
   "cell_type": "markdown",
   "metadata": {},
   "source": [
    "### 第8条，用zip函数同时遍历两个迭代器"
   ]
  },
  {
   "cell_type": "code",
   "execution_count": null,
   "metadata": {},
   "outputs": [],
   "source": [
    "# 找出name列表中最长的名字\n",
    "name = ['Cecilia', 'Lise', 'Marie']\n",
    "counts = [len(n) for n in name]\n",
    "print(counts)"
   ]
  },
  {
   "cell_type": "code",
   "execution_count": null,
   "metadata": {},
   "outputs": [],
   "source": [
    "# zip函数返回一个惰性迭代器，将对象中对应的元素打包成一个个元组，然后返回由这些元组组成的列表。\n",
    "zipped = zip(name, counts)\n",
    "print(zipped)\n",
    "print(list(zipped))   # 需要转换为list查看\n",
    "print(list(zip(*zip(name, counts))))   #可以使用*进行解压"
   ]
  },
  {
   "cell_type": "code",
   "execution_count": null,
   "metadata": {},
   "outputs": [],
   "source": [
    "max_count = 0\n",
    "for name, count in zip(name, counts):\n",
    "    if count > max_count:\n",
    "        longest_name = name\n",
    "        max_count = count\n",
    "print(longest_name, max_count)\n",
    "# zip每次只它封装的迭代器里各自取出一个元素，因此即便资源列表很长，也不用担心程序崩溃。\n",
    "# 如果迭代器长度不同，zip会在最短的迭代器处理完毕后停止迭代。\n",
    "# 如果要按最长的处理，itertools里有zip_longest函数"
   ]
  },
  {
   "attachments": {},
   "cell_type": "markdown",
   "metadata": {},
   "source": [
    "### 第9条，不要在for与while循环后面写else模块"
   ]
  },
  {
   "attachments": {},
   "cell_type": "markdown",
   "metadata": {},
   "source": [
    "### 第10条，用赋值表达式减少重复代码"
   ]
  },
  {
   "cell_type": "code",
   "execution_count": null,
   "metadata": {},
   "outputs": [],
   "source": [
    "# :=称作海象操作符\n",
    "dict = {'a' : 1, 'b' : 2}\n",
    "dict.get('c',0)\n",
    "\n",
    "# 使用海象操作符可以将赋值操作嵌入在其他操作中，如判断语句\n",
    "if a:=1:\n",
    "    print('a=1')"
   ]
  }
 ],
 "metadata": {
  "kernelspec": {
   "display_name": "osmnx",
   "language": "python",
   "name": "python3"
  },
  "language_info": {
   "codemirror_mode": {
    "name": "ipython",
    "version": 3
   },
   "file_extension": ".py",
   "mimetype": "text/x-python",
   "name": "python",
   "nbconvert_exporter": "python",
   "pygments_lexer": "ipython3",
   "version": "3.10.6"
  },
  "orig_nbformat": 4
 },
 "nbformat": 4,
 "nbformat_minor": 2
}
