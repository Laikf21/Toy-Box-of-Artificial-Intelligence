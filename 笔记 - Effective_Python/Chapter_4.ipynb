{
 "cells": [
  {
   "attachments": {},
   "cell_type": "markdown",
   "metadata": {},
   "source": [
    "# 第四章，推导与生成"
   ]
  },
  {
   "attachments": {},
   "cell_type": "markdown",
   "metadata": {},
   "source": [
    "- 在字典、列表、集合等数据结构中，python提供了推导的写法，简洁地迭代这些结构，并根据迭代结果派生出另一套数据\n",
    "- 当这种理念运用到函数中时，称为生成器。凡是可是使用迭代器的任务都支持生成器函数。生成器可以提升性能并减少内存用量，让代码更容易读懂"
   ]
  }
 ],
 "metadata": {
  "language_info": {
   "name": "python"
  },
  "orig_nbformat": 4
 },
 "nbformat": 4,
 "nbformat_minor": 2
}
