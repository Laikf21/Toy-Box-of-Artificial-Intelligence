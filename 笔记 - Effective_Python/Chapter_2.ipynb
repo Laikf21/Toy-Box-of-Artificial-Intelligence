{
 "cells": [
  {
   "attachments": {},
   "cell_type": "markdown",
   "metadata": {},
   "source": [
    "# 第二章，字典与列表"
   ]
  },
  {
   "attachments": {},
   "cell_type": "markdown",
   "metadata": {},
   "source": [
    "### 第11条，学会对序列做切片"
   ]
  },
  {
   "cell_type": "code",
   "execution_count": 2,
   "metadata": {},
   "outputs": [
    {
     "name": "stdout",
     "output_type": "stream",
     "text": [
      "[1, 2]\n"
     ]
    }
   ],
   "source": [
    "# 凡是实现了__getitem__和__setitem__这两个特殊方法的类都可以进行切割\n",
    "\n",
    "a = [1,2,3]\n",
    "b = a[:]\n",
    "b.pop()\n",
    "print(b)"
   ]
  },
  {
   "attachments": {},
   "cell_type": "markdown",
   "metadata": {},
   "source": [
    "### 第13条，通过带星号的unpacking操作来捕获多个元素，不要用切片"
   ]
  },
  {
   "cell_type": "code",
   "execution_count": 6,
   "metadata": {},
   "outputs": [
    {
     "name": "stdout",
     "output_type": "stream",
     "text": [
      "1 2 [3, 4, 5, 6]\n",
      "1 [2, 3, 4, 5] 6\n"
     ]
    }
   ],
   "source": [
    "# 带星号的表达式囊括不定长表达式\n",
    "list = [1,2,3,4,5,6]\n",
    "a,b,*c = list\n",
    "print(a,b,c)\n",
    "\n",
    "a,*b,c = list\n",
    "print(a,b,c)\n",
    "# 注意在使用这种方法时，必须要有普通变量搭配星号表达式，单独使用星号表达式会报错\n",
    "# *a = list         # 这种写法是错误的\n",
    "# *a, *b = list     # 这种写法也是错误的"
   ]
  },
  {
   "cell_type": "code",
   "execution_count": 9,
   "metadata": {},
   "outputs": [],
   "source": [
    "# 定义为元组的对象key进行相互比较，Python会按数值进行比较\n",
    "a = (1, 'a')\n",
    "b = (2, 'b')\n",
    "assert a < b"
   ]
  },
  {
   "cell_type": "code",
   "execution_count": 4,
   "metadata": {},
   "outputs": [
    {
     "name": "stdout",
     "output_type": "stream",
     "text": [
      "[Tool('chisel', 0.25), Tool('hammer', 1.25), Tool('level', 3.5), Tool('screwdriver', 0.5)]\n",
      "[Tool('level', 3.5), Tool('hammer', 1.25), Tool('screwdriver', 0.5), Tool('chisel', 0.25)]\n"
     ]
    }
   ],
   "source": [
    "class Tool:\n",
    "    def __init__(self, name, weight) -> None:\n",
    "        self.name = name\n",
    "        self.weight = weight\n",
    "    \n",
    "    def __repr__(self) -> str:\n",
    "        return f'Tool({self.name!r}, {self.weight})'\n",
    "    \n",
    "tools = [\n",
    "    Tool('level', 3.5),\n",
    "    Tool('hammer', 1.25),\n",
    "    Tool('screwdriver', 0.5),\n",
    "    Tool('chisel', 0.25)\n",
    "]\n",
    "\n",
    "# 先按name排序\n",
    "tools.sort(key=lambda x:x.name)\n",
    "print(tools)\n",
    "\n",
    "# 再按weight排序\n",
    "tools.sort(key=lambda x:x.weight, reverse=True)\n",
    "print(tools)"
   ]
  },
  {
   "cell_type": "code",
   "execution_count": 3,
   "metadata": {},
   "outputs": [
    {
     "data": {
      "text/plain": [
       "'a'"
      ]
     },
     "execution_count": 3,
     "metadata": {},
     "output_type": "execute_result"
    }
   ],
   "source": [
    "def get_winner(ranks):\n",
    "    return next(iter(ranks))\n",
    "\n",
    "ranks= {'a':3\n",
    "        ,'b':2\n",
    "        ,'c':1\n",
    "}\n",
    "\n",
    "get_winner(ranks)"
   ]
  },
  {
   "attachments": {},
   "cell_type": "markdown",
   "metadata": {},
   "source": [
    "### 第16条，用get处理键不在字典中的情况，不要使用in与KeyError"
   ]
  },
  {
   "attachments": {},
   "cell_type": "markdown",
   "metadata": {},
   "source": [
    "- 有四种方法可以处理键不在字典中的情况：in表达式、KeyError、get方法、setdefault方法\n",
    "- 如果是计数器这类基本类型，get表达式是最好的方案。对于开销比较大的类型，可以结合get方法与赋值表达式:=\n",
    "- setdefault方法自带一次赋值操作，逊于get方法。即便要使用setdefault，也要考虑使用defaultdict代替"
   ]
  },
  {
   "cell_type": "code",
   "execution_count": 5,
   "metadata": {},
   "outputs": [
    {
     "name": "stdout",
     "output_type": "stream",
     "text": [
      "0\n",
      "Counter({'a': 2, 'b': 1, 'c': 1})\n"
     ]
    }
   ],
   "source": [
    "dict = {'a':3\n",
    "        ,'b':2\n",
    "        ,'c':1\n",
    "}\n",
    "\n",
    "d_value = dict.get('d', 0)\n",
    "print(d_value)\n",
    "\n",
    "# 上述计数功能可以用collections中的counter类实现\n",
    "from collections import Counter\n",
    "cdict = Counter()\n",
    "for i in ['a', 'b', 'a', 'c']:\n",
    "    cdict[i] += 1\n",
    "print(cdict)"
   ]
  },
  {
   "attachments": {},
   "cell_type": "markdown",
   "metadata": {},
   "source": [
    "### 第17条，用defaultdict处理内部状态中缺失的元素，而不要用setdefault"
   ]
  },
  {
   "cell_type": "code",
   "execution_count": 8,
   "metadata": {},
   "outputs": [
    {
     "name": "stdout",
     "output_type": "stream",
     "text": [
      "set()\n"
     ]
    }
   ],
   "source": [
    "from collections import defaultdict\n",
    "\n",
    "from collections import defaultdict\n",
    "data = defaultdict(set) # 当data中的key不存在时，自动对该key返回一个set\n",
    "print(data['a'])"
   ]
  },
  {
   "attachments": {},
   "cell_type": "markdown",
   "metadata": {},
   "source": [
    "### 第18条，学会利用__missing__构造依赖键的默认值"
   ]
  },
  {
   "cell_type": "code",
   "execution_count": 12,
   "metadata": {},
   "outputs": [],
   "source": [
    "picture = {}\n",
    "path = 'profile_1234.png'\n",
    "\n",
    "if (handle := picture.get(path)) is None:\n",
    "    try:\n",
    "        handle = open(path, 'a+b')\n",
    "    except OSError:\n",
    "        print(f'Failer to open path {path}')\n",
    "        raise\n",
    "    else:\n",
    "        picture[path] = handle\n",
    "\n",
    "handle.seek(0)\n",
    "Image_data = handle.read()"
   ]
  },
  {
   "cell_type": "code",
   "execution_count": 13,
   "metadata": {},
   "outputs": [
    {
     "name": "stdout",
     "output_type": "stream",
     "text": [
      "您输入的不是数字，请再次尝试输入！\n",
      "您输入的不是数字，请再次尝试输入！\n",
      "您输入的不是数字，请再次尝试输入！\n",
      "您输入的不是数字，请再次尝试输入！\n",
      "您输入的不是数字，请再次尝试输入！\n",
      "您输入的不是数字，请再次尝试输入！\n"
     ]
    }
   ],
   "source": [
    "while True:\n",
    "    try:\n",
    "        x = int(input(\"请输入一个数字: \"))\n",
    "        break\n",
    "    except ValueError:\n",
    "        print(\"您输入的不是数字，请再次尝试输入！\")"
   ]
  }
 ],
 "metadata": {
  "kernelspec": {
   "display_name": "osmnx",
   "language": "python",
   "name": "python3"
  },
  "language_info": {
   "codemirror_mode": {
    "name": "ipython",
    "version": 3
   },
   "file_extension": ".py",
   "mimetype": "text/x-python",
   "name": "python",
   "nbconvert_exporter": "python",
   "pygments_lexer": "ipython3",
   "version": "3.10.6"
  },
  "orig_nbformat": 4
 },
 "nbformat": 4,
 "nbformat_minor": 2
}
